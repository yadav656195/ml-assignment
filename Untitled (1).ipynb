{
 "cells": [
  {
   "cell_type": "code",
   "execution_count": null,
   "id": "2589bdc6-27a8-4da5-8e30-b601dc205bcf",
   "metadata": {},
   "outputs": [],
   "source": [
    " Q1: Explain the following with an example:\n",
    "Ans- Artificial intelligence-Artificial Intelligence is the concept of creating smart intelligent machines\n",
    "Machine Learning-Machine learning is AI that can automatically adapt with minimal            human interference.  \n",
    "Deep learning-it is a subset of machine learning that uses artificial neural networks to mimic the learning process of human brain.\n",
    "\n",
    "\n",
    "\n",
    "\n"
   ]
  },
  {
   "cell_type": "code",
   "execution_count": null,
   "id": "85e792f0-106c-4d76-ad0d-37c6dd81d4e9",
   "metadata": {},
   "outputs": [],
   "source": [
    "Q2.What is supervised learning? Give some example of supervised learning.\n",
    "Ans-it is type of machine learning where model is trained on labeled dataset.\n",
    " I.e- face recognition,speech recognition etc.\n",
    "\n"
   ]
  },
  {
   "cell_type": "code",
   "execution_count": null,
   "id": "14ad0c48-13f8-4799-9be8-87df6110f312",
   "metadata": {},
   "outputs": [],
   "source": [
    "Q3:  What is unsupervised learning? List some examples of unsupervised learning.\n",
    "Ans-It is a type of machine learning where algorithm is trained on unlabeled data.System tries to learn pattern and relationships.I.e. Market basket,identifying accident prone areas.\n"
   ]
  },
  {
   "cell_type": "code",
   "execution_count": null,
   "id": "4c310c1d-4ed5-4b17-82ad-384fbf462569",
   "metadata": {},
   "outputs": [],
   "source": [
    "Q4- What is the difference between AI, ML, DL, and DS?\n",
    "Ans-Artificial Intelligence (AI) is a broad field focused on creating machines that can perform tasks requiring human intelligence. Machine Learning (ML) is a subset of AI, enabling systems to learn patterns from data and make decisions without explicit programming. Deep Learning (DL) is a specialized form of ML that involves neural networks with multiple layers, mimicking the human brain's structure. Data Science (DS) combines AI, ML, and statistical techniques to extract insights and knowledge from data, aiding in decision-making. While AI is the overarching concept, ML and DL are specific approaches, and DS is the interdisciplinary practice of deriving insights from data.\n",
    "\n"
   ]
  },
  {
   "cell_type": "code",
   "execution_count": null,
   "id": "b6d7d7ce-42c2-4a92-96ee-f830c80336ae",
   "metadata": {},
   "outputs": [],
   "source": [
    "Q5: Main Differences between Supervised, Unsupervised, and Semi-Supervised Learning:\n",
    "\n",
    "Supervised Learning: Involves training a model on a labeled dataset, where the algorithm learns to map input data to corresponding output labels. The goal is to make predictions on new, unseen data.\n",
    "\n",
    "Unsupervised Learning: Involves working with unlabeled data to discover inherent patterns, relationships, or structures. Common tasks include clustering and dimensionality reduction.\n",
    "\n",
    "Semi-Supervised Learning: Utilizes a combination of labeled and unlabeled data for training. It combines aspects of both supervised and unsupervised learning, often benefiting from the additional unlabeled data to improve model performance.\n",
    "\n"
   ]
  },
  {
   "cell_type": "code",
   "execution_count": null,
   "id": "5b25ddce-83cd-411c-8f97-395cf6c6f6b7",
   "metadata": {},
   "outputs": [],
   "source": [
    "Q6: Train, Test, and Validation Split:\n",
    "\n",
    "Train Set: The portion of the dataset used to train the machine learning model. The model learns from this data and adjusts its parameters to make predictions.\n",
    "\n",
    "Test Set: A separate portion of the dataset that is not used during training. It is used to assess the model's performance on unseen data, helping to evaluate its generalization ability.\n",
    "\n",
    "Validation Set: An additional subset used during the training phase to fine-tune model hyperparameters. It aids in preventing overfitting by providing an independent dataset for tuning without contaminating the test set.\n",
    "Importance:\n",
    "\n",
    "Train Set: Essential for the model to learn patterns and relationships within the data.\n",
    "\n",
    "Validation Set: Crucial for hyperparameter tuning to improve the model's generalization on new data.\n",
    "\n",
    "Test Set: Critical for evaluating the model's performance and assessing how well it generalizes to new, unseen data.\n",
    "\n"
   ]
  },
  {
   "cell_type": "code",
   "execution_count": null,
   "id": "31949136-a592-4f45-9597-b569b3abf5f1",
   "metadata": {},
   "outputs": [],
   "source": [
    "Q7: Unsupervised Learning in Anomaly Detection:\n",
    "\n",
    "Unsupervised learning algorithms, such as clustering and density estimation, can be used for anomaly detection.\n",
    "\n",
    "Anomalies are identified as instances that deviate significantly from the normal patterns in the data.\n",
    "\n",
    "The algorithm learns the normal behavior during training and can flag instances that do not conform to these learned patterns as potential anomalies.\n",
    "\n"
   ]
  },
  {
   "cell_type": "code",
   "execution_count": null,
   "id": "f22d6c15-a286-46c6-9b0f-9c49ce4a18b5",
   "metadata": {},
   "outputs": [],
   "source": [
    "Q8: Commonly Used Supervised and Unsupervised Learning Algorithms:\n",
    "\n",
    "Supervised Learning Algorithms:\n",
    "\n",
    "Linear Regression\n",
    "Decision Trees\n",
    "Random Forest\n",
    "Support Vector Machines (SVM)\n",
    "k-Nearest Neighbors (k-NN)\n",
    "Neural Networks\n",
    "Unsupervised Learning Algorithms:\n",
    "\n",
    "K-Means Clustering\n",
    "Hierarchical Clustering\n",
    "Principal Component Analysis (PCA)\n",
    "t-Distributed Stochastic Neighbor Embedding (t-SNE)\n",
    "Apriori Algorithm (for association rule learning)\n",
    "Isolation Forest (for anomaly detection)"
   ]
  }
 ],
 "metadata": {
  "kernelspec": {
   "display_name": "Python 3 (ipykernel)",
   "language": "python",
   "name": "python3"
  },
  "language_info": {
   "codemirror_mode": {
    "name": "ipython",
    "version": 3
   },
   "file_extension": ".py",
   "mimetype": "text/x-python",
   "name": "python",
   "nbconvert_exporter": "python",
   "pygments_lexer": "ipython3",
   "version": "3.10.8"
  }
 },
 "nbformat": 4,
 "nbformat_minor": 5
}
